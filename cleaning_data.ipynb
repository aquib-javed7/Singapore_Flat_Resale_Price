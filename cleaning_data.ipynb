{
  "nbformat": 4,
  "nbformat_minor": 0,
  "metadata": {
    "colab": {
      "provenance": [],
      "gpuType": "V28"
    },
    "kernelspec": {
      "name": "python3",
      "display_name": "Python 3"
    },
    "language_info": {
      "name": "python"
    },
    "accelerator": "TPU"
  },
  "cells": [
    {
      "cell_type": "code",
      "execution_count": 1,
      "metadata": {
        "id": "tOAHtcoAqeqn"
      },
      "outputs": [],
      "source": [
        "import pandas as pd\n",
        "import numpy as np\n",
        "import seaborn as sns\n",
        "import matplotlib.pyplot as plt\n",
        "import json\n",
        "import pickle\n",
        "import re"
      ]
    },
    {
      "cell_type": "markdown",
      "source": [
        "# Data Importing and cleaning"
      ],
      "metadata": {
        "id": "J26JtfS5q_Ud"
      }
    },
    {
      "cell_type": "code",
      "source": [
        "df_1=pd.read_csv('/content/Resale Flat Prices (Based on Approval Date), 1990 - 1999.csv')\n",
        "df_2=pd.read_csv('/content/Resale Flat Prices (Based on Approval Date), 2000 - Feb 2012.csv')\n",
        "df_3=pd.read_csv('/content/Resale Flat Prices (Based on Registration Date), From Mar 2012 to Dec 2014.csv')\n",
        "df_4=pd.read_csv('/content/Resale Flat Prices (Based on Registration Date), From Jan 2015 to Dec 2016.csv')\n",
        "df_5=pd.read_csv('/content/Resale flat prices based on registration date from Jan-2017 onwards.csv')"
      ],
      "metadata": {
        "id": "6wRSaUuoqv6f"
      },
      "execution_count": 4,
      "outputs": []
    },
    {
      "cell_type": "code",
      "source": [
        "df=pd.concat([df_1,df_2,df_3,df_4,df_5],axis=0)\n",
        "df.head()"
      ],
      "metadata": {
        "colab": {
          "base_uri": "https://localhost:8080/",
          "height": 399
        },
        "id": "dAnrVyiVrzI1",
        "outputId": "30357249-6ba5-4d08-e6b1-82a02e6c2bfb"
      },
      "execution_count": 5,
      "outputs": [
        {
          "output_type": "execute_result",
          "data": {
            "text/plain": [
              "     month        town flat_type block       street_name storey_range  \\\n",
              "0  1990-01  ANG MO KIO    1 ROOM   309  ANG MO KIO AVE 1     10 TO 12   \n",
              "1  1990-01  ANG MO KIO    1 ROOM   309  ANG MO KIO AVE 1     04 TO 06   \n",
              "2  1990-01  ANG MO KIO    1 ROOM   309  ANG MO KIO AVE 1     10 TO 12   \n",
              "3  1990-01  ANG MO KIO    1 ROOM   309  ANG MO KIO AVE 1     07 TO 09   \n",
              "4  1990-01  ANG MO KIO    3 ROOM   216  ANG MO KIO AVE 1     04 TO 06   \n",
              "\n",
              "   floor_area_sqm      flat_model  lease_commence_date  resale_price  \\\n",
              "0            31.0        IMPROVED                 1977        9000.0   \n",
              "1            31.0        IMPROVED                 1977        6000.0   \n",
              "2            31.0        IMPROVED                 1977        8000.0   \n",
              "3            31.0        IMPROVED                 1977        6000.0   \n",
              "4            73.0  NEW GENERATION                 1976       47200.0   \n",
              "\n",
              "  remaining_lease  \n",
              "0             NaN  \n",
              "1             NaN  \n",
              "2             NaN  \n",
              "3             NaN  \n",
              "4             NaN  "
            ],
            "text/html": [
              "\n",
              "  <div id=\"df-c278b6cd-1821-4f31-832a-0278e2e4af48\" class=\"colab-df-container\">\n",
              "    <div>\n",
              "<style scoped>\n",
              "    .dataframe tbody tr th:only-of-type {\n",
              "        vertical-align: middle;\n",
              "    }\n",
              "\n",
              "    .dataframe tbody tr th {\n",
              "        vertical-align: top;\n",
              "    }\n",
              "\n",
              "    .dataframe thead th {\n",
              "        text-align: right;\n",
              "    }\n",
              "</style>\n",
              "<table border=\"1\" class=\"dataframe\">\n",
              "  <thead>\n",
              "    <tr style=\"text-align: right;\">\n",
              "      <th></th>\n",
              "      <th>month</th>\n",
              "      <th>town</th>\n",
              "      <th>flat_type</th>\n",
              "      <th>block</th>\n",
              "      <th>street_name</th>\n",
              "      <th>storey_range</th>\n",
              "      <th>floor_area_sqm</th>\n",
              "      <th>flat_model</th>\n",
              "      <th>lease_commence_date</th>\n",
              "      <th>resale_price</th>\n",
              "      <th>remaining_lease</th>\n",
              "    </tr>\n",
              "  </thead>\n",
              "  <tbody>\n",
              "    <tr>\n",
              "      <th>0</th>\n",
              "      <td>1990-01</td>\n",
              "      <td>ANG MO KIO</td>\n",
              "      <td>1 ROOM</td>\n",
              "      <td>309</td>\n",
              "      <td>ANG MO KIO AVE 1</td>\n",
              "      <td>10 TO 12</td>\n",
              "      <td>31.0</td>\n",
              "      <td>IMPROVED</td>\n",
              "      <td>1977</td>\n",
              "      <td>9000.0</td>\n",
              "      <td>NaN</td>\n",
              "    </tr>\n",
              "    <tr>\n",
              "      <th>1</th>\n",
              "      <td>1990-01</td>\n",
              "      <td>ANG MO KIO</td>\n",
              "      <td>1 ROOM</td>\n",
              "      <td>309</td>\n",
              "      <td>ANG MO KIO AVE 1</td>\n",
              "      <td>04 TO 06</td>\n",
              "      <td>31.0</td>\n",
              "      <td>IMPROVED</td>\n",
              "      <td>1977</td>\n",
              "      <td>6000.0</td>\n",
              "      <td>NaN</td>\n",
              "    </tr>\n",
              "    <tr>\n",
              "      <th>2</th>\n",
              "      <td>1990-01</td>\n",
              "      <td>ANG MO KIO</td>\n",
              "      <td>1 ROOM</td>\n",
              "      <td>309</td>\n",
              "      <td>ANG MO KIO AVE 1</td>\n",
              "      <td>10 TO 12</td>\n",
              "      <td>31.0</td>\n",
              "      <td>IMPROVED</td>\n",
              "      <td>1977</td>\n",
              "      <td>8000.0</td>\n",
              "      <td>NaN</td>\n",
              "    </tr>\n",
              "    <tr>\n",
              "      <th>3</th>\n",
              "      <td>1990-01</td>\n",
              "      <td>ANG MO KIO</td>\n",
              "      <td>1 ROOM</td>\n",
              "      <td>309</td>\n",
              "      <td>ANG MO KIO AVE 1</td>\n",
              "      <td>07 TO 09</td>\n",
              "      <td>31.0</td>\n",
              "      <td>IMPROVED</td>\n",
              "      <td>1977</td>\n",
              "      <td>6000.0</td>\n",
              "      <td>NaN</td>\n",
              "    </tr>\n",
              "    <tr>\n",
              "      <th>4</th>\n",
              "      <td>1990-01</td>\n",
              "      <td>ANG MO KIO</td>\n",
              "      <td>3 ROOM</td>\n",
              "      <td>216</td>\n",
              "      <td>ANG MO KIO AVE 1</td>\n",
              "      <td>04 TO 06</td>\n",
              "      <td>73.0</td>\n",
              "      <td>NEW GENERATION</td>\n",
              "      <td>1976</td>\n",
              "      <td>47200.0</td>\n",
              "      <td>NaN</td>\n",
              "    </tr>\n",
              "  </tbody>\n",
              "</table>\n",
              "</div>\n",
              "    <div class=\"colab-df-buttons\">\n",
              "\n",
              "  <div class=\"colab-df-container\">\n",
              "    <button class=\"colab-df-convert\" onclick=\"convertToInteractive('df-c278b6cd-1821-4f31-832a-0278e2e4af48')\"\n",
              "            title=\"Convert this dataframe to an interactive table.\"\n",
              "            style=\"display:none;\">\n",
              "\n",
              "  <svg xmlns=\"http://www.w3.org/2000/svg\" height=\"24px\" viewBox=\"0 -960 960 960\">\n",
              "    <path d=\"M120-120v-720h720v720H120Zm60-500h600v-160H180v160Zm220 220h160v-160H400v160Zm0 220h160v-160H400v160ZM180-400h160v-160H180v160Zm440 0h160v-160H620v160ZM180-180h160v-160H180v160Zm440 0h160v-160H620v160Z\"/>\n",
              "  </svg>\n",
              "    </button>\n",
              "\n",
              "  <style>\n",
              "    .colab-df-container {\n",
              "      display:flex;\n",
              "      gap: 12px;\n",
              "    }\n",
              "\n",
              "    .colab-df-convert {\n",
              "      background-color: #E8F0FE;\n",
              "      border: none;\n",
              "      border-radius: 50%;\n",
              "      cursor: pointer;\n",
              "      display: none;\n",
              "      fill: #1967D2;\n",
              "      height: 32px;\n",
              "      padding: 0 0 0 0;\n",
              "      width: 32px;\n",
              "    }\n",
              "\n",
              "    .colab-df-convert:hover {\n",
              "      background-color: #E2EBFA;\n",
              "      box-shadow: 0px 1px 2px rgba(60, 64, 67, 0.3), 0px 1px 3px 1px rgba(60, 64, 67, 0.15);\n",
              "      fill: #174EA6;\n",
              "    }\n",
              "\n",
              "    .colab-df-buttons div {\n",
              "      margin-bottom: 4px;\n",
              "    }\n",
              "\n",
              "    [theme=dark] .colab-df-convert {\n",
              "      background-color: #3B4455;\n",
              "      fill: #D2E3FC;\n",
              "    }\n",
              "\n",
              "    [theme=dark] .colab-df-convert:hover {\n",
              "      background-color: #434B5C;\n",
              "      box-shadow: 0px 1px 3px 1px rgba(0, 0, 0, 0.15);\n",
              "      filter: drop-shadow(0px 1px 2px rgba(0, 0, 0, 0.3));\n",
              "      fill: #FFFFFF;\n",
              "    }\n",
              "  </style>\n",
              "\n",
              "    <script>\n",
              "      const buttonEl =\n",
              "        document.querySelector('#df-c278b6cd-1821-4f31-832a-0278e2e4af48 button.colab-df-convert');\n",
              "      buttonEl.style.display =\n",
              "        google.colab.kernel.accessAllowed ? 'block' : 'none';\n",
              "\n",
              "      async function convertToInteractive(key) {\n",
              "        const element = document.querySelector('#df-c278b6cd-1821-4f31-832a-0278e2e4af48');\n",
              "        const dataTable =\n",
              "          await google.colab.kernel.invokeFunction('convertToInteractive',\n",
              "                                                    [key], {});\n",
              "        if (!dataTable) return;\n",
              "\n",
              "        const docLinkHtml = 'Like what you see? Visit the ' +\n",
              "          '<a target=\"_blank\" href=https://colab.research.google.com/notebooks/data_table.ipynb>data table notebook</a>'\n",
              "          + ' to learn more about interactive tables.';\n",
              "        element.innerHTML = '';\n",
              "        dataTable['output_type'] = 'display_data';\n",
              "        await google.colab.output.renderOutput(dataTable, element);\n",
              "        const docLink = document.createElement('div');\n",
              "        docLink.innerHTML = docLinkHtml;\n",
              "        element.appendChild(docLink);\n",
              "      }\n",
              "    </script>\n",
              "  </div>\n",
              "\n",
              "\n",
              "<div id=\"df-d9bc6a41-5b7f-459e-9628-efa2e596ecfa\">\n",
              "  <button class=\"colab-df-quickchart\" onclick=\"quickchart('df-d9bc6a41-5b7f-459e-9628-efa2e596ecfa')\"\n",
              "            title=\"Suggest charts\"\n",
              "            style=\"display:none;\">\n",
              "\n",
              "<svg xmlns=\"http://www.w3.org/2000/svg\" height=\"24px\"viewBox=\"0 0 24 24\"\n",
              "     width=\"24px\">\n",
              "    <g>\n",
              "        <path d=\"M19 3H5c-1.1 0-2 .9-2 2v14c0 1.1.9 2 2 2h14c1.1 0 2-.9 2-2V5c0-1.1-.9-2-2-2zM9 17H7v-7h2v7zm4 0h-2V7h2v10zm4 0h-2v-4h2v4z\"/>\n",
              "    </g>\n",
              "</svg>\n",
              "  </button>\n",
              "\n",
              "<style>\n",
              "  .colab-df-quickchart {\n",
              "      --bg-color: #E8F0FE;\n",
              "      --fill-color: #1967D2;\n",
              "      --hover-bg-color: #E2EBFA;\n",
              "      --hover-fill-color: #174EA6;\n",
              "      --disabled-fill-color: #AAA;\n",
              "      --disabled-bg-color: #DDD;\n",
              "  }\n",
              "\n",
              "  [theme=dark] .colab-df-quickchart {\n",
              "      --bg-color: #3B4455;\n",
              "      --fill-color: #D2E3FC;\n",
              "      --hover-bg-color: #434B5C;\n",
              "      --hover-fill-color: #FFFFFF;\n",
              "      --disabled-bg-color: #3B4455;\n",
              "      --disabled-fill-color: #666;\n",
              "  }\n",
              "\n",
              "  .colab-df-quickchart {\n",
              "    background-color: var(--bg-color);\n",
              "    border: none;\n",
              "    border-radius: 50%;\n",
              "    cursor: pointer;\n",
              "    display: none;\n",
              "    fill: var(--fill-color);\n",
              "    height: 32px;\n",
              "    padding: 0;\n",
              "    width: 32px;\n",
              "  }\n",
              "\n",
              "  .colab-df-quickchart:hover {\n",
              "    background-color: var(--hover-bg-color);\n",
              "    box-shadow: 0 1px 2px rgba(60, 64, 67, 0.3), 0 1px 3px 1px rgba(60, 64, 67, 0.15);\n",
              "    fill: var(--button-hover-fill-color);\n",
              "  }\n",
              "\n",
              "  .colab-df-quickchart-complete:disabled,\n",
              "  .colab-df-quickchart-complete:disabled:hover {\n",
              "    background-color: var(--disabled-bg-color);\n",
              "    fill: var(--disabled-fill-color);\n",
              "    box-shadow: none;\n",
              "  }\n",
              "\n",
              "  .colab-df-spinner {\n",
              "    border: 2px solid var(--fill-color);\n",
              "    border-color: transparent;\n",
              "    border-bottom-color: var(--fill-color);\n",
              "    animation:\n",
              "      spin 1s steps(1) infinite;\n",
              "  }\n",
              "\n",
              "  @keyframes spin {\n",
              "    0% {\n",
              "      border-color: transparent;\n",
              "      border-bottom-color: var(--fill-color);\n",
              "      border-left-color: var(--fill-color);\n",
              "    }\n",
              "    20% {\n",
              "      border-color: transparent;\n",
              "      border-left-color: var(--fill-color);\n",
              "      border-top-color: var(--fill-color);\n",
              "    }\n",
              "    30% {\n",
              "      border-color: transparent;\n",
              "      border-left-color: var(--fill-color);\n",
              "      border-top-color: var(--fill-color);\n",
              "      border-right-color: var(--fill-color);\n",
              "    }\n",
              "    40% {\n",
              "      border-color: transparent;\n",
              "      border-right-color: var(--fill-color);\n",
              "      border-top-color: var(--fill-color);\n",
              "    }\n",
              "    60% {\n",
              "      border-color: transparent;\n",
              "      border-right-color: var(--fill-color);\n",
              "    }\n",
              "    80% {\n",
              "      border-color: transparent;\n",
              "      border-right-color: var(--fill-color);\n",
              "      border-bottom-color: var(--fill-color);\n",
              "    }\n",
              "    90% {\n",
              "      border-color: transparent;\n",
              "      border-bottom-color: var(--fill-color);\n",
              "    }\n",
              "  }\n",
              "</style>\n",
              "\n",
              "  <script>\n",
              "    async function quickchart(key) {\n",
              "      const quickchartButtonEl =\n",
              "        document.querySelector('#' + key + ' button');\n",
              "      quickchartButtonEl.disabled = true;  // To prevent multiple clicks.\n",
              "      quickchartButtonEl.classList.add('colab-df-spinner');\n",
              "      try {\n",
              "        const charts = await google.colab.kernel.invokeFunction(\n",
              "            'suggestCharts', [key], {});\n",
              "      } catch (error) {\n",
              "        console.error('Error during call to suggestCharts:', error);\n",
              "      }\n",
              "      quickchartButtonEl.classList.remove('colab-df-spinner');\n",
              "      quickchartButtonEl.classList.add('colab-df-quickchart-complete');\n",
              "    }\n",
              "    (() => {\n",
              "      let quickchartButtonEl =\n",
              "        document.querySelector('#df-d9bc6a41-5b7f-459e-9628-efa2e596ecfa button');\n",
              "      quickchartButtonEl.style.display =\n",
              "        google.colab.kernel.accessAllowed ? 'block' : 'none';\n",
              "    })();\n",
              "  </script>\n",
              "</div>\n",
              "\n",
              "    </div>\n",
              "  </div>\n"
            ],
            "application/vnd.google.colaboratory.intrinsic+json": {
              "type": "dataframe",
              "variable_name": "df"
            }
          },
          "metadata": {},
          "execution_count": 5
        }
      ]
    },
    {
      "cell_type": "code",
      "source": [
        "df.to_csv('Resale flat prices based on Approval & Registration date from 1990 onwards.csv',index = False)"
      ],
      "metadata": {
        "id": "O2Q_t46Rr4vB"
      },
      "execution_count": null,
      "outputs": []
    },
    {
      "cell_type": "code",
      "source": [
        "df=pd.read_csv('/content/Resale flat prices based on Approval & Registration date from 1990 onwards.csv')"
      ],
      "metadata": {
        "colab": {
          "base_uri": "https://localhost:8080/"
        },
        "id": "gInvyGhquhFb",
        "outputId": "9ce7527a-7a81-4d49-b4a4-e1e8371dfe26"
      },
      "execution_count": 4,
      "outputs": [
        {
          "output_type": "stream",
          "name": "stderr",
          "text": [
            "<ipython-input-4-19cbc8d68608>:1: DtypeWarning: Columns (10) have mixed types. Specify dtype option on import or set low_memory=False.\n",
            "  df=pd.read_csv('/content/Resale flat prices based on Approval & Registration date from 1990 onwards.csv')\n"
          ]
        }
      ]
    },
    {
      "cell_type": "code",
      "source": [
        "df.shape"
      ],
      "metadata": {
        "colab": {
          "base_uri": "https://localhost:8080/"
        },
        "id": "3MVCNX7qvc-e",
        "outputId": "8898e33b-287b-4196-905e-5edfe18aa071"
      },
      "execution_count": 7,
      "outputs": [
        {
          "output_type": "execute_result",
          "data": {
            "text/plain": [
              "(945530, 11)"
            ]
          },
          "metadata": {},
          "execution_count": 7
        }
      ]
    },
    {
      "cell_type": "code",
      "source": [
        "df.dtypes"
      ],
      "metadata": {
        "colab": {
          "base_uri": "https://localhost:8080/",
          "height": 429
        },
        "id": "JazXImj8ve7c",
        "outputId": "7e9f0cf6-b4d0-4570-cccf-9185701f35c8"
      },
      "execution_count": 8,
      "outputs": [
        {
          "output_type": "execute_result",
          "data": {
            "text/plain": [
              "month                   object\n",
              "town                    object\n",
              "flat_type               object\n",
              "block                   object\n",
              "street_name             object\n",
              "storey_range            object\n",
              "floor_area_sqm         float64\n",
              "flat_model              object\n",
              "lease_commence_date      int64\n",
              "resale_price           float64\n",
              "remaining_lease         object\n",
              "dtype: object"
            ],
            "text/html": [
              "<div>\n",
              "<style scoped>\n",
              "    .dataframe tbody tr th:only-of-type {\n",
              "        vertical-align: middle;\n",
              "    }\n",
              "\n",
              "    .dataframe tbody tr th {\n",
              "        vertical-align: top;\n",
              "    }\n",
              "\n",
              "    .dataframe thead th {\n",
              "        text-align: right;\n",
              "    }\n",
              "</style>\n",
              "<table border=\"1\" class=\"dataframe\">\n",
              "  <thead>\n",
              "    <tr style=\"text-align: right;\">\n",
              "      <th></th>\n",
              "      <th>0</th>\n",
              "    </tr>\n",
              "  </thead>\n",
              "  <tbody>\n",
              "    <tr>\n",
              "      <th>month</th>\n",
              "      <td>object</td>\n",
              "    </tr>\n",
              "    <tr>\n",
              "      <th>town</th>\n",
              "      <td>object</td>\n",
              "    </tr>\n",
              "    <tr>\n",
              "      <th>flat_type</th>\n",
              "      <td>object</td>\n",
              "    </tr>\n",
              "    <tr>\n",
              "      <th>block</th>\n",
              "      <td>object</td>\n",
              "    </tr>\n",
              "    <tr>\n",
              "      <th>street_name</th>\n",
              "      <td>object</td>\n",
              "    </tr>\n",
              "    <tr>\n",
              "      <th>storey_range</th>\n",
              "      <td>object</td>\n",
              "    </tr>\n",
              "    <tr>\n",
              "      <th>floor_area_sqm</th>\n",
              "      <td>float64</td>\n",
              "    </tr>\n",
              "    <tr>\n",
              "      <th>flat_model</th>\n",
              "      <td>object</td>\n",
              "    </tr>\n",
              "    <tr>\n",
              "      <th>lease_commence_date</th>\n",
              "      <td>int64</td>\n",
              "    </tr>\n",
              "    <tr>\n",
              "      <th>resale_price</th>\n",
              "      <td>float64</td>\n",
              "    </tr>\n",
              "    <tr>\n",
              "      <th>remaining_lease</th>\n",
              "      <td>object</td>\n",
              "    </tr>\n",
              "  </tbody>\n",
              "</table>\n",
              "</div><br><label><b>dtype:</b> object</label>"
            ]
          },
          "metadata": {},
          "execution_count": 8
        }
      ]
    },
    {
      "cell_type": "code",
      "source": [
        "df.info()"
      ],
      "metadata": {
        "colab": {
          "base_uri": "https://localhost:8080/"
        },
        "id": "KjRUib6ywEjz",
        "outputId": "75f9fe99-6799-4b54-d131-99188272bf50"
      },
      "execution_count": 9,
      "outputs": [
        {
          "output_type": "stream",
          "name": "stdout",
          "text": [
            "<class 'pandas.core.frame.DataFrame'>\n",
            "Index: 945530 entries, 0 to 199326\n",
            "Data columns (total 11 columns):\n",
            " #   Column               Non-Null Count   Dtype  \n",
            "---  ------               --------------   -----  \n",
            " 0   month                945530 non-null  object \n",
            " 1   town                 945530 non-null  object \n",
            " 2   flat_type            945530 non-null  object \n",
            " 3   block                945530 non-null  object \n",
            " 4   street_name          945530 non-null  object \n",
            " 5   storey_range         945530 non-null  object \n",
            " 6   floor_area_sqm       945530 non-null  float64\n",
            " 7   flat_model           945530 non-null  object \n",
            " 8   lease_commence_date  945530 non-null  int64  \n",
            " 9   resale_price         945530 non-null  float64\n",
            " 10  remaining_lease      236480 non-null  object \n",
            "dtypes: float64(2), int64(1), object(8)\n",
            "memory usage: 86.6+ MB\n"
          ]
        }
      ]
    },
    {
      "cell_type": "code",
      "source": [
        "df.isnull().sum()"
      ],
      "metadata": {
        "colab": {
          "base_uri": "https://localhost:8080/",
          "height": 429
        },
        "id": "rHd2pElRwE-j",
        "outputId": "6d9e78ac-3fb6-4817-f210-8100d31c91f9"
      },
      "execution_count": 10,
      "outputs": [
        {
          "output_type": "execute_result",
          "data": {
            "text/plain": [
              "month                       0\n",
              "town                        0\n",
              "flat_type                   0\n",
              "block                       0\n",
              "street_name                 0\n",
              "storey_range                0\n",
              "floor_area_sqm              0\n",
              "flat_model                  0\n",
              "lease_commence_date         0\n",
              "resale_price                0\n",
              "remaining_lease        709050\n",
              "dtype: int64"
            ],
            "text/html": [
              "<div>\n",
              "<style scoped>\n",
              "    .dataframe tbody tr th:only-of-type {\n",
              "        vertical-align: middle;\n",
              "    }\n",
              "\n",
              "    .dataframe tbody tr th {\n",
              "        vertical-align: top;\n",
              "    }\n",
              "\n",
              "    .dataframe thead th {\n",
              "        text-align: right;\n",
              "    }\n",
              "</style>\n",
              "<table border=\"1\" class=\"dataframe\">\n",
              "  <thead>\n",
              "    <tr style=\"text-align: right;\">\n",
              "      <th></th>\n",
              "      <th>0</th>\n",
              "    </tr>\n",
              "  </thead>\n",
              "  <tbody>\n",
              "    <tr>\n",
              "      <th>month</th>\n",
              "      <td>0</td>\n",
              "    </tr>\n",
              "    <tr>\n",
              "      <th>town</th>\n",
              "      <td>0</td>\n",
              "    </tr>\n",
              "    <tr>\n",
              "      <th>flat_type</th>\n",
              "      <td>0</td>\n",
              "    </tr>\n",
              "    <tr>\n",
              "      <th>block</th>\n",
              "      <td>0</td>\n",
              "    </tr>\n",
              "    <tr>\n",
              "      <th>street_name</th>\n",
              "      <td>0</td>\n",
              "    </tr>\n",
              "    <tr>\n",
              "      <th>storey_range</th>\n",
              "      <td>0</td>\n",
              "    </tr>\n",
              "    <tr>\n",
              "      <th>floor_area_sqm</th>\n",
              "      <td>0</td>\n",
              "    </tr>\n",
              "    <tr>\n",
              "      <th>flat_model</th>\n",
              "      <td>0</td>\n",
              "    </tr>\n",
              "    <tr>\n",
              "      <th>lease_commence_date</th>\n",
              "      <td>0</td>\n",
              "    </tr>\n",
              "    <tr>\n",
              "      <th>resale_price</th>\n",
              "      <td>0</td>\n",
              "    </tr>\n",
              "    <tr>\n",
              "      <th>remaining_lease</th>\n",
              "      <td>709050</td>\n",
              "    </tr>\n",
              "  </tbody>\n",
              "</table>\n",
              "</div><br><label><b>dtype:</b> int64</label>"
            ]
          },
          "metadata": {},
          "execution_count": 10
        }
      ]
    },
    {
      "cell_type": "code",
      "source": [
        "df.drop(columns=[\"remaining_lease\"],inplace=True)"
      ],
      "metadata": {
        "id": "vmFIbXXdwOUS"
      },
      "execution_count": 11,
      "outputs": []
    },
    {
      "cell_type": "code",
      "source": [
        "df.isnull().sum()"
      ],
      "metadata": {
        "colab": {
          "base_uri": "https://localhost:8080/",
          "height": 397
        },
        "id": "epQ1aaHLwTbr",
        "outputId": "db0039c7-9dd0-4ccc-8763-6432790c93d5"
      },
      "execution_count": 12,
      "outputs": [
        {
          "output_type": "execute_result",
          "data": {
            "text/plain": [
              "month                  0\n",
              "town                   0\n",
              "flat_type              0\n",
              "block                  0\n",
              "street_name            0\n",
              "storey_range           0\n",
              "floor_area_sqm         0\n",
              "flat_model             0\n",
              "lease_commence_date    0\n",
              "resale_price           0\n",
              "dtype: int64"
            ],
            "text/html": [
              "<div>\n",
              "<style scoped>\n",
              "    .dataframe tbody tr th:only-of-type {\n",
              "        vertical-align: middle;\n",
              "    }\n",
              "\n",
              "    .dataframe tbody tr th {\n",
              "        vertical-align: top;\n",
              "    }\n",
              "\n",
              "    .dataframe thead th {\n",
              "        text-align: right;\n",
              "    }\n",
              "</style>\n",
              "<table border=\"1\" class=\"dataframe\">\n",
              "  <thead>\n",
              "    <tr style=\"text-align: right;\">\n",
              "      <th></th>\n",
              "      <th>0</th>\n",
              "    </tr>\n",
              "  </thead>\n",
              "  <tbody>\n",
              "    <tr>\n",
              "      <th>month</th>\n",
              "      <td>0</td>\n",
              "    </tr>\n",
              "    <tr>\n",
              "      <th>town</th>\n",
              "      <td>0</td>\n",
              "    </tr>\n",
              "    <tr>\n",
              "      <th>flat_type</th>\n",
              "      <td>0</td>\n",
              "    </tr>\n",
              "    <tr>\n",
              "      <th>block</th>\n",
              "      <td>0</td>\n",
              "    </tr>\n",
              "    <tr>\n",
              "      <th>street_name</th>\n",
              "      <td>0</td>\n",
              "    </tr>\n",
              "    <tr>\n",
              "      <th>storey_range</th>\n",
              "      <td>0</td>\n",
              "    </tr>\n",
              "    <tr>\n",
              "      <th>floor_area_sqm</th>\n",
              "      <td>0</td>\n",
              "    </tr>\n",
              "    <tr>\n",
              "      <th>flat_model</th>\n",
              "      <td>0</td>\n",
              "    </tr>\n",
              "    <tr>\n",
              "      <th>lease_commence_date</th>\n",
              "      <td>0</td>\n",
              "    </tr>\n",
              "    <tr>\n",
              "      <th>resale_price</th>\n",
              "      <td>0</td>\n",
              "    </tr>\n",
              "  </tbody>\n",
              "</table>\n",
              "</div><br><label><b>dtype:</b> int64</label>"
            ]
          },
          "metadata": {},
          "execution_count": 12
        }
      ]
    },
    {
      "cell_type": "code",
      "source": [
        "df['month'].unique()"
      ],
      "metadata": {
        "colab": {
          "base_uri": "https://localhost:8080/"
        },
        "id": "Y9lugnkAwV4C",
        "outputId": "9a39c18c-9a56-4f12-f9a3-e18e1b3720b1"
      },
      "execution_count": 13,
      "outputs": [
        {
          "output_type": "execute_result",
          "data": {
            "text/plain": [
              "array(['1990-01', '1990-02', '1990-03', '1990-04', '1990-05', '1990-06',\n",
              "       '1990-07', '1990-08', '1990-09', '1990-10', '1990-11', '1990-12',\n",
              "       '1991-01', '1991-02', '1991-03', '1991-04', '1991-05', '1991-06',\n",
              "       '1991-07', '1991-08', '1991-09', '1991-10', '1991-11', '1991-12',\n",
              "       '1992-01', '1992-02', '1992-03', '1992-04', '1992-05', '1992-06',\n",
              "       '1992-07', '1992-08', '1992-09', '1992-10', '1992-11', '1992-12',\n",
              "       '1993-01', '1993-02', '1993-03', '1993-04', '1993-05', '1993-06',\n",
              "       '1993-07', '1993-08', '1993-09', '1993-10', '1993-11', '1993-12',\n",
              "       '1994-01', '1994-02', '1994-03', '1994-04', '1994-05', '1994-06',\n",
              "       '1994-07', '1994-08', '1994-09', '1994-10', '1994-11', '1994-12',\n",
              "       '1995-01', '1995-02', '1995-03', '1995-04', '1995-05', '1995-06',\n",
              "       '1995-07', '1995-08', '1995-09', '1995-10', '1995-11', '1995-12',\n",
              "       '1996-01', '1996-02', '1996-03', '1996-04', '1996-05', '1996-06',\n",
              "       '1996-07', '1996-08', '1996-09', '1996-10', '1996-11', '1996-12',\n",
              "       '1997-01', '1997-02', '1997-03', '1997-04', '1997-05', '1997-06',\n",
              "       '1997-07', '1997-08', '1997-09', '1997-10', '1997-11', '1997-12',\n",
              "       '1998-01', '1998-02', '1998-03', '1998-04', '1998-05', '1998-06',\n",
              "       '1998-07', '1998-08', '1998-09', '1998-10', '1998-11', '1998-12',\n",
              "       '1999-01', '1999-02', '1999-03', '1999-04', '1999-05', '1999-06',\n",
              "       '1999-07', '1999-08', '1999-09', '1999-10', '1999-11', '1999-12',\n",
              "       '2000-01', '2000-02', '2000-03', '2000-04', '2000-05', '2000-06',\n",
              "       '2000-07', '2000-08', '2000-09', '2000-10', '2000-11', '2000-12',\n",
              "       '2001-01', '2001-02', '2001-03', '2001-04', '2001-05', '2001-06',\n",
              "       '2001-07', '2001-08', '2001-09', '2001-10', '2001-11', '2001-12',\n",
              "       '2002-01', '2002-02', '2002-03', '2002-04', '2002-05', '2002-06',\n",
              "       '2002-07', '2002-08', '2002-09', '2002-10', '2002-11', '2002-12',\n",
              "       '2003-01', '2003-02', '2003-03', '2003-04', '2003-05', '2003-06',\n",
              "       '2003-07', '2003-08', '2003-09', '2003-10', '2003-11', '2003-12',\n",
              "       '2004-01', '2004-02', '2004-03', '2004-04', '2004-05', '2004-06',\n",
              "       '2004-07', '2004-08', '2004-09', '2004-10', '2004-11', '2004-12',\n",
              "       '2005-01', '2005-02', '2005-03', '2005-04', '2005-05', '2005-06',\n",
              "       '2005-07', '2005-08', '2005-09', '2005-10', '2005-11', '2005-12',\n",
              "       '2006-01', '2006-02', '2006-03', '2006-04', '2006-05', '2006-06',\n",
              "       '2006-07', '2006-08', '2006-09', '2006-10', '2006-11', '2006-12',\n",
              "       '2007-01', '2007-02', '2007-03', '2007-04', '2007-05', '2007-06',\n",
              "       '2007-07', '2007-08', '2007-09', '2007-10', '2007-11', '2007-12',\n",
              "       '2008-01', '2008-02', '2008-03', '2008-04', '2008-05', '2008-06',\n",
              "       '2008-07', '2008-08', '2008-09', '2008-10', '2008-11', '2008-12',\n",
              "       '2009-01', '2009-02', '2009-03', '2009-04', '2009-05', '2009-06',\n",
              "       '2009-07', '2009-08', '2009-09', '2009-10', '2009-11', '2009-12',\n",
              "       '2010-01', '2010-02', '2010-03', '2010-04', '2010-05', '2010-06',\n",
              "       '2010-07', '2010-08', '2010-09', '2010-10', '2010-11', '2010-12',\n",
              "       '2011-01', '2011-02', '2011-03', '2011-04', '2011-05', '2011-06',\n",
              "       '2011-07', '2011-08', '2011-09', '2011-10', '2011-11', '2011-12',\n",
              "       '2012-01', '2012-02', '2012-03', '2012-04', '2012-05', '2012-06',\n",
              "       '2012-07', '2012-08', '2012-09', '2012-10', '2012-11', '2012-12',\n",
              "       '2013-01', '2013-02', '2013-03', '2013-04', '2013-05', '2013-06',\n",
              "       '2013-07', '2013-08', '2013-09', '2013-10', '2013-11', '2013-12',\n",
              "       '2014-01', '2014-02', '2014-03', '2014-04', '2014-05', '2014-06',\n",
              "       '2014-07', '2014-08', '2014-09', '2014-10', '2014-11', '2014-12',\n",
              "       '2015-01', '2015-02', '2015-03', '2015-04', '2015-05', '2015-06',\n",
              "       '2015-07', '2015-08', '2015-09', '2015-10', '2015-11', '2015-12',\n",
              "       '2016-01', '2016-02', '2016-03', '2016-04', '2016-05', '2016-06',\n",
              "       '2016-07', '2016-08', '2016-09', '2016-10', '2016-11', '2016-12',\n",
              "       '2017-01', '2017-02', '2017-03', '2017-04', '2017-05', '2017-06',\n",
              "       '2017-07', '2017-08', '2017-09', '2017-10', '2017-11', '2017-12',\n",
              "       '2018-01', '2018-02', '2018-03', '2018-04', '2018-05', '2018-06',\n",
              "       '2018-07', '2018-08', '2018-09', '2018-10', '2018-11', '2018-12',\n",
              "       '2019-01', '2019-02', '2019-03', '2019-04', '2019-05', '2019-06',\n",
              "       '2019-07', '2019-08', '2019-09', '2019-10', '2019-11', '2019-12',\n",
              "       '2020-01', '2020-02', '2020-03', '2020-04', '2020-05', '2020-06',\n",
              "       '2020-07', '2020-08', '2020-09', '2020-10', '2020-11', '2020-12',\n",
              "       '2021-01', '2021-02', '2021-03', '2021-04', '2021-05', '2021-06',\n",
              "       '2021-07', '2021-08', '2021-09', '2021-10', '2021-11', '2021-12',\n",
              "       '2022-01', '2022-02', '2022-03', '2022-04', '2022-05', '2022-06',\n",
              "       '2022-07', '2022-08', '2022-09', '2022-10', '2022-11', '2022-12',\n",
              "       '2023-01', '2023-02', '2023-03', '2023-04', '2023-05', '2023-06',\n",
              "       '2023-07', '2023-08', '2023-09', '2023-10', '2023-11', '2023-12',\n",
              "       '2024-02', '2024-12', '2024-04', '2024-06', '2024-09', '2024-11',\n",
              "       '2024-01', '2024-03', '2024-07', '2024-05', '2024-08', '2024-10',\n",
              "       '2025-01'], dtype=object)"
            ]
          },
          "metadata": {},
          "execution_count": 13
        }
      ]
    },
    {
      "cell_type": "code",
      "source": [
        "df.loc[:,'reg_year']=df['month'].apply(lambda x:int(x.split('-')[0]))\n",
        "df.loc[:,'reg_month']=df['month'].apply(lambda x:int(x.split('-')[1]))"
      ],
      "metadata": {
        "id": "jSBqhXRxxTYm"
      },
      "execution_count": 14,
      "outputs": []
    },
    {
      "cell_type": "code",
      "source": [
        "df.dtypes"
      ],
      "metadata": {
        "colab": {
          "base_uri": "https://localhost:8080/",
          "height": 460
        },
        "id": "AlRPoG_izAMI",
        "outputId": "5c85b0ed-9b0a-45f2-9def-9fba41c67870"
      },
      "execution_count": 15,
      "outputs": [
        {
          "output_type": "execute_result",
          "data": {
            "text/plain": [
              "month                   object\n",
              "town                    object\n",
              "flat_type               object\n",
              "block                   object\n",
              "street_name             object\n",
              "storey_range            object\n",
              "floor_area_sqm         float64\n",
              "flat_model              object\n",
              "lease_commence_date      int64\n",
              "resale_price           float64\n",
              "reg_year                 int64\n",
              "reg_month                int64\n",
              "dtype: object"
            ],
            "text/html": [
              "<div>\n",
              "<style scoped>\n",
              "    .dataframe tbody tr th:only-of-type {\n",
              "        vertical-align: middle;\n",
              "    }\n",
              "\n",
              "    .dataframe tbody tr th {\n",
              "        vertical-align: top;\n",
              "    }\n",
              "\n",
              "    .dataframe thead th {\n",
              "        text-align: right;\n",
              "    }\n",
              "</style>\n",
              "<table border=\"1\" class=\"dataframe\">\n",
              "  <thead>\n",
              "    <tr style=\"text-align: right;\">\n",
              "      <th></th>\n",
              "      <th>0</th>\n",
              "    </tr>\n",
              "  </thead>\n",
              "  <tbody>\n",
              "    <tr>\n",
              "      <th>month</th>\n",
              "      <td>object</td>\n",
              "    </tr>\n",
              "    <tr>\n",
              "      <th>town</th>\n",
              "      <td>object</td>\n",
              "    </tr>\n",
              "    <tr>\n",
              "      <th>flat_type</th>\n",
              "      <td>object</td>\n",
              "    </tr>\n",
              "    <tr>\n",
              "      <th>block</th>\n",
              "      <td>object</td>\n",
              "    </tr>\n",
              "    <tr>\n",
              "      <th>street_name</th>\n",
              "      <td>object</td>\n",
              "    </tr>\n",
              "    <tr>\n",
              "      <th>storey_range</th>\n",
              "      <td>object</td>\n",
              "    </tr>\n",
              "    <tr>\n",
              "      <th>floor_area_sqm</th>\n",
              "      <td>float64</td>\n",
              "    </tr>\n",
              "    <tr>\n",
              "      <th>flat_model</th>\n",
              "      <td>object</td>\n",
              "    </tr>\n",
              "    <tr>\n",
              "      <th>lease_commence_date</th>\n",
              "      <td>int64</td>\n",
              "    </tr>\n",
              "    <tr>\n",
              "      <th>resale_price</th>\n",
              "      <td>float64</td>\n",
              "    </tr>\n",
              "    <tr>\n",
              "      <th>reg_year</th>\n",
              "      <td>int64</td>\n",
              "    </tr>\n",
              "    <tr>\n",
              "      <th>reg_month</th>\n",
              "      <td>int64</td>\n",
              "    </tr>\n",
              "  </tbody>\n",
              "</table>\n",
              "</div><br><label><b>dtype:</b> object</label>"
            ]
          },
          "metadata": {},
          "execution_count": 15
        }
      ]
    },
    {
      "cell_type": "code",
      "source": [
        "df['flat_type'].unique()"
      ],
      "metadata": {
        "colab": {
          "base_uri": "https://localhost:8080/"
        },
        "id": "u1ePz9_GzFkC",
        "outputId": "9777d19d-e677-4927-8057-e85c64edf1c0"
      },
      "execution_count": 16,
      "outputs": [
        {
          "output_type": "execute_result",
          "data": {
            "text/plain": [
              "array(['1 ROOM', '3 ROOM', '4 ROOM', '5 ROOM', '2 ROOM', 'EXECUTIVE',\n",
              "       'MULTI GENERATION', 'MULTI-GENERATION'], dtype=object)"
            ]
          },
          "metadata": {},
          "execution_count": 16
        }
      ]
    },
    {
      "cell_type": "code",
      "source": [
        "df['flat_type'] = df['flat_type'].replace('MULTI-GENERATION', 'MULTI GENERATION')\n",
        "df['flat_type'].unique()"
      ],
      "metadata": {
        "colab": {
          "base_uri": "https://localhost:8080/"
        },
        "id": "ME_Zyu7PzipY",
        "outputId": "eab69761-62ae-4b65-a1f4-e86a021a0fa8"
      },
      "execution_count": 17,
      "outputs": [
        {
          "output_type": "execute_result",
          "data": {
            "text/plain": [
              "array(['1 ROOM', '3 ROOM', '4 ROOM', '5 ROOM', '2 ROOM', 'EXECUTIVE',\n",
              "       'MULTI GENERATION'], dtype=object)"
            ]
          },
          "metadata": {},
          "execution_count": 17
        }
      ]
    },
    {
      "cell_type": "code",
      "source": [
        "df.columns"
      ],
      "metadata": {
        "colab": {
          "base_uri": "https://localhost:8080/"
        },
        "id": "Att2iLCr0vfc",
        "outputId": "b41abac0-9ff7-4728-e182-8d1f8725115d"
      },
      "execution_count": 18,
      "outputs": [
        {
          "output_type": "execute_result",
          "data": {
            "text/plain": [
              "Index(['month', 'town', 'flat_type', 'block', 'street_name', 'storey_range',\n",
              "       'floor_area_sqm', 'flat_model', 'lease_commence_date', 'resale_price',\n",
              "       'reg_year', 'reg_month'],\n",
              "      dtype='object')"
            ]
          },
          "metadata": {},
          "execution_count": 18
        }
      ]
    },
    {
      "cell_type": "code",
      "source": [
        "df['town'].unique()"
      ],
      "metadata": {
        "colab": {
          "base_uri": "https://localhost:8080/"
        },
        "id": "PkM5PZJK0yxO",
        "outputId": "f81da2a6-5b04-45ad-9b07-7062881c76e8"
      },
      "execution_count": 19,
      "outputs": [
        {
          "output_type": "execute_result",
          "data": {
            "text/plain": [
              "array(['ANG MO KIO', 'BEDOK', 'BISHAN', 'BUKIT BATOK', 'BUKIT MERAH',\n",
              "       'BUKIT TIMAH', 'CENTRAL AREA', 'CHOA CHU KANG', 'CLEMENTI',\n",
              "       'GEYLANG', 'HOUGANG', 'JURONG EAST', 'JURONG WEST',\n",
              "       'KALLANG/WHAMPOA', 'MARINE PARADE', 'QUEENSTOWN', 'SENGKANG',\n",
              "       'SERANGOON', 'TAMPINES', 'TOA PAYOH', 'WOODLANDS', 'YISHUN',\n",
              "       'LIM CHU KANG', 'SEMBAWANG', 'BUKIT PANJANG', 'PASIR RIS',\n",
              "       'PUNGGOL'], dtype=object)"
            ]
          },
          "metadata": {},
          "execution_count": 19
        }
      ]
    },
    {
      "cell_type": "code",
      "source": [
        "df['block'].unique()"
      ],
      "metadata": {
        "colab": {
          "base_uri": "https://localhost:8080/"
        },
        "id": "rj1C5bpB03lw",
        "outputId": "c3a3191c-74d1-45ef-c4e7-5c45e170385b"
      },
      "execution_count": 20,
      "outputs": [
        {
          "output_type": "execute_result",
          "data": {
            "text/plain": [
              "array(['309', '216', '211', ..., '608B', '606D', '457A'], dtype=object)"
            ]
          },
          "metadata": {},
          "execution_count": 20
        }
      ]
    },
    {
      "cell_type": "code",
      "source": [
        "df.loc[:,'block']=df['block'].astype(str)\n",
        "df['block'] = df['block'].astype(str).apply(lambda x: ''.join([char for char in x if char.isdigit()]))"
      ],
      "metadata": {
        "id": "1A8cgCax0-xA"
      },
      "execution_count": 21,
      "outputs": []
    },
    {
      "cell_type": "code",
      "source": [
        "df['block'].unique()"
      ],
      "metadata": {
        "colab": {
          "base_uri": "https://localhost:8080/"
        },
        "id": "bXQ_6_HA2svH",
        "outputId": "b9e3617a-ce50-4b40-aef3-36f84cfe48a8"
      },
      "execution_count": 22,
      "outputs": [
        {
          "output_type": "execute_result",
          "data": {
            "text/plain": [
              "array(['309', '216', '211', '202', '235', '232', '308', '220', '219',\n",
              "       '247', '320', '252', '223', '230', '329', '313', '117', '110',\n",
              "       '343', '345', '346', '121', '129', '130', '128', '127', '126',\n",
              "       '403', '404', '405', '417', '418', '419', '441', '442', '443',\n",
              "       '444', '450', '435', '433', '434', '424', '425', '466', '471',\n",
              "       '474', '570', '586', '455', '465', '463', '564', '560', '558',\n",
              "       '559', '538', '534', '601', '603', '604', '608', '611', '505',\n",
              "       '503', '610', '607', '524', '513', '643', '542', '548', '550',\n",
              "       '639', '637', '330', '333', '156', '152', '178', '180', '209',\n",
              "       '231', '254', '103', '105', '344', '324', '120', '124', '414',\n",
              "       '438', '427', '428', '473', '573', '585', '456', '544', '640',\n",
              "       '638', '646', '150', '179', '336', '335', '401', '439', '430',\n",
              "       '460', '459', '716', '545', '620', '622', '259', '101', '18', '28',\n",
              "       '29', '30', '75', '76', '501', '502', '504', '2', '20', '21', '59',\n",
              "       '58', '55', '22', '104', '107', '69', '33', '46', '116', '115',\n",
              "       '125', '138', '87', '100', '412', '402', '416', '136', '529',\n",
              "       '510', '525', '218', '213', '532', '533', '536', '537', '44',\n",
              "       '540', '702', '615', '712', '50', '54', '606', '616', '15', '34',\n",
              "       '36', '35', '41', '42', '53', '51', '8', '718', '724', '166', '71',\n",
              "       '82', '78', '79', '80', '134', '132', '131', '133', '89', '62',\n",
              "       '422', '507', '508', '517', '95', '93', '43', '543', '547', '708',\n",
              "       '707', '713', '609', '61', '56', '165', '710', '613', '602', '605',\n",
              "       '112', '1', '722', '72', '31', '111', '118', '96', '137', '139',\n",
              "       '725', '24', '304', '310', '160', '161', '164', '177', '205',\n",
              "       '248', '258', '4', '6', '146', '143', '145', '182', '228', '227',\n",
              "       '244', '113', '163', '169', '204', '135', '184', '225', '123',\n",
              "       '307', '221', '214', '142', '140', '141', '7', '40', '77', '119',\n",
              "       '114', '5', '12', '16', '13', '108', '102', '106', '63', '60', '3',\n",
              "       '19', '26', '37', '47', '109', '57', '48', '73', '66', '264',\n",
              "       '271', '664', '9', '10', '663', '662', '632', '633', '642', '440',\n",
              "       '509', '363', '365', '334', '323', '322', '326', '314', '312',\n",
              "       '354', '506', '305', '306', '303', '431', '339', '515', '520',\n",
              "       '703', '704', '711', '705', '731', '728', '706', '411', '315',\n",
              "       '311', '301', '729', '371', '415', '413', '337', '717', '723',\n",
              "       '201', '81', '45', '85', '98', '99', '65', '23', '67', '49', '39',\n",
              "       '38', '17', '319', '318', '327', '410', '239', '154', '341', '352',\n",
              "       '251', '302', '234', '237', '233', '242', '243', '257', '210',\n",
              "       '208', '316', '408', '240', '331', '406', '167', '168', '170',\n",
              "       '172', '185', '186', '187', '212', '215', '516', '511', '457',\n",
              "       '490', '489', '487', '485', '476', '477', '527', '535', '484',\n",
              "       '491', '481', '217', '448', '446', '447', '554', '551', '458',\n",
              "       '436', '452', '539', '198', '203', '407', '469', '468', '801',\n",
              "       '97', '11', '68', '94', '14', '84', '83', '52', '807', '461', '32',\n",
              "       '171', '173', '88', '86', '74', '25', '267', '269', '924', '925',\n",
              "       '817', '818', '808', '809', '285', '287', '274', '291', '293',\n",
              "       '262', '914', '250', '226', '236', '270', '420', '157', '820',\n",
              "       '819', '813', '810', '266', '265', '286', '272', '275', '295',\n",
              "       '261', '913', '910', '253', '277', '928', '832', '838', '839',\n",
              "       '159', '812', '811', '294', '432', '816', '289', '298', '912',\n",
              "       '278', '279', '245', '149', '148', '91', '27', '206', '193', '200',\n",
              "       '162', '701', '736', '742', '276', '751', '752', '733', '740',\n",
              "       '280', '772', '229', '238', '255', '256', '328', '348', '571',\n",
              "       '584', '454', '575', '561', '512', '523', '644', '621', '625',\n",
              "       '155', '470', '565', '546', '612', '648', '70', '122', '426',\n",
              "       '530', '519', '526', '626', '709', '719', '207', '175', '249',\n",
              "       '260', '183', '641', '362', '409', '429', '518', '449', '379',\n",
              "       '359', '347', '342', '340', '846', '317', '321', '325', '357',\n",
              "       '241', '462', '475', '528', '480', '514', '437', '451', '486',\n",
              "       '199', '64', '153', '90', '224', '814', '283', '297', '848', '831',\n",
              "       '281', '273', '916', '902', '921', '934', '268', '805', '833',\n",
              "       '804', '903', '932', '151', '147', '174', '195', '222', '741',\n",
              "       '756', '390', '737', '726', '358', '421', '445', '587', '464',\n",
              "       '557', '549', '624', '631', '572', '563', '552', '522', '614',\n",
              "       '715', '714', '144', '661', '634', '730', '338', '349', '351',\n",
              "       '353', '246', '521', '488', '478', '555', '556', '907', '282',\n",
              "       '292', '935', '263', '933', '926', '922', '191', '732', '158',\n",
              "       '727', '721', '284', '759', '858', '576', '578', '541', '623',\n",
              "       '332', '423', '176', '181', '668', '364', '374', '350', '373',\n",
              "       '381', '355', '531', '483', '553', '909', '930', '915', '911',\n",
              "       '931', '815', '194', '754', '749', '618', '92', '628', '472',\n",
              "       '806', '837', '290', '296', '857', '735', '746', '649', '635',\n",
              "       '636', '367', '360', '376', '854', '288', '747', '738', '768',\n",
              "       '757', '467', '562', '617', '627', '361', '368', '370', '479',\n",
              "       '852', '745', '771', '766', '773', '755', '758', '577', '619',\n",
              "       '720', '377', '356', '842', '453', '803', '937', '762', '739',\n",
              "       '774', '760', '366', '375', '844', '734', '778', '197', '369',\n",
              "       '929', '830', '856', '764', '744', '684', '908', '765', '686',\n",
              "       '683', '840', '783', '784', '750', '770', '495', '835', '685',\n",
              "       '682', '853', '753', '781', '775', '657', '776', '498', '824',\n",
              "       '847', '378', '645', '681', '841', '782', '388', '674', '675',\n",
              "       '845', '851', '785', '372', '673', '482', '836', '788', '189',\n",
              "       '829', '843', '800', '629', '630', '676', '761', '655', '794',\n",
              "       '790', '689', '492', '748', '795', '796', '799', '196', '696',\n",
              "       '849', '798', '791', '494', '897', '855', '802', '779', '190',\n",
              "       '688', '658', '660', '687', '697', '827', '777', '743', '651',\n",
              "       '647', '695', '698', '693', '694', '665', '828', '906', '653',\n",
              "       '867', '667', '680', '763', '780', '671', '690', '883', '792',\n",
              "       '192', '669', '977', '944', '691', '917', '825', '895', '672',\n",
              "       '650', '884', '821', '881', '885', '882', '393', '394', '666',\n",
              "       '656', '399', '386', '391', '652', '862', '864', '863', '860',\n",
              "       '659', '868', '859', '861', '397', '786', '787', '826', '877',\n",
              "       '834', '876', '678', '898', '878', '767', '872', '880', '874',\n",
              "       '380', '677', '870', '871', '865', '866', '879', '797', '875',\n",
              "       '389', '850', '920', '387', '392', '904', '949', '395', '396',\n",
              "       '822', '886', '873', '670', '899', '692', '978', '887', '939',\n",
              "       '905', '927', '894', '679', '936', '919', '896', '188', '923',\n",
              "       '888', '938', '654', '943', '940', '942', '398', '769', '966',\n",
              "       '945', '889', '941', '947', '946', '918', '869', '976', '979',\n",
              "       '567', '948', '953', '789', '980', '823', '974', '496', '965',\n",
              "       '975', '952', '961', '500', '950', '382', '568', '385', '793',\n",
              "       '497', '893', '566', '569', '493', '384', '383', '580', '579',\n",
              "       '700', '581', '583', '582', '574', '891', '892', '299', '300',\n",
              "       '962', '699', '956', '951', '957', '958', '955', '954', '964',\n",
              "       '959', '963', '969', '968', '970', '960', '973', '972', '971',\n",
              "       '967', '596', '588', '589', '981', '984', '985', '986', '989',\n",
              "       '987', '988', '990', '499', '590', '591', '592', '593', '890',\n",
              "       '997', '992', '998', '991', '996', '995', '999'], dtype=object)"
            ]
          },
          "metadata": {},
          "execution_count": 22
        }
      ]
    },
    {
      "cell_type": "code",
      "source": [
        "df['flat_model'].unique()"
      ],
      "metadata": {
        "colab": {
          "base_uri": "https://localhost:8080/"
        },
        "id": "6zAIkSFB24eb",
        "outputId": "ab6ef877-3e21-48ac-e27a-f556c6d61cd7"
      },
      "execution_count": 23,
      "outputs": [
        {
          "output_type": "execute_result",
          "data": {
            "text/plain": [
              "array(['IMPROVED', 'NEW GENERATION', 'MODEL A', 'STANDARD', 'SIMPLIFIED',\n",
              "       'MODEL A-MAISONETTE', 'APARTMENT', 'MAISONETTE', 'TERRACE',\n",
              "       '2-ROOM', 'IMPROVED-MAISONETTE', 'MULTI GENERATION',\n",
              "       'PREMIUM APARTMENT', 'Improved', 'New Generation', 'Model A',\n",
              "       'Standard', 'Apartment', 'Simplified', 'Model A-Maisonette',\n",
              "       'Maisonette', 'Multi Generation', 'Adjoined flat',\n",
              "       'Premium Apartment', 'Terrace', 'Improved-Maisonette',\n",
              "       'Premium Maisonette', '2-room', 'Model A2', 'DBSS', 'Type S1',\n",
              "       'Type S2', 'Premium Apartment Loft', '3Gen'], dtype=object)"
            ]
          },
          "metadata": {},
          "execution_count": 23
        }
      ]
    },
    {
      "cell_type": "code",
      "source": [
        "df['floor_area_sqm'].unique()"
      ],
      "metadata": {
        "colab": {
          "base_uri": "https://localhost:8080/"
        },
        "id": "K5bKwaxW3Ah3",
        "outputId": "58f4aa21-ec44-430b-f5f6-6b49a0cd9e90"
      },
      "execution_count": 24,
      "outputs": [
        {
          "output_type": "execute_result",
          "data": {
            "text/plain": [
              "array([ 31. ,  73. ,  67. ,  82. ,  74. ,  88. ,  89. ,  83. ,  68. ,\n",
              "        75. ,  81. ,  91. ,  92. ,  97. ,  90. ,  98. ,  99. , 100. ,\n",
              "        93. , 103. , 119. , 120. , 118. , 121. , 135. , 117. ,  45. ,\n",
              "        65. ,  59. ,  70. ,  76. ,  84. , 104. , 105. , 125. , 132. ,\n",
              "       139. , 123. , 143. , 151. ,  69. , 106. , 107. , 116. , 149. ,\n",
              "       141. , 146. , 148. , 145. , 154. , 150. ,  29. ,  51. ,  61. ,\n",
              "        63. ,  64. ,  72. ,  58. ,  66. ,  60. ,  53. ,  54. ,  56. ,\n",
              "        77. , 133. , 131. , 115. ,  43. ,  38. ,  41. ,  85. , 111. ,\n",
              "       101. , 112. , 137. , 127. , 147. , 163. ,  50. ,  40. ,  60.3,\n",
              "        62. ,  55. ,  57. ,  52. ,  63.1, 102. ,  83.1, 126. , 140. ,\n",
              "       142. ,  71. , 108. , 144. ,  96. , 114. , 157. , 152. , 155. ,\n",
              "        87. , 109. , 110. ,  94. , 134. , 122. , 128. ,  78. ,  46. ,\n",
              "        42. ,  49. ,  47. ,  86. , 156. ,  79. ,  80. , 124. ,  28. ,\n",
              "       113. ,  95. , 160. , 136. ,  48. , 138. , 161. ,  39. , 130. ,\n",
              "       159. , 206. ,  68.2,  64.9, 129. , 165. , 153. , 166. , 210. ,\n",
              "        59.2,  73.1,  48.1, 174. ,  74.9, 164. , 158. ,  37. , 198. ,\n",
              "       173. , 199. , 261. , 179. ,  69.7, 246. , 171. , 181. ,  44. ,\n",
              "       169. , 189. ,  67.2, 222. ,  64.8, 250. ,  74.8, 215. , 237. ,\n",
              "        59.1, 185. , 297. , 177. , 243. ,  69.9, 162. , 170. , 190. ,\n",
              "       175. , 187. , 241. , 186. ,  56.4, 176. ,  75.9, 184. , 178. ,\n",
              "        69.2, 172. , 168. , 167. , 152.4,  64.7, 195. , 188. , 225. ,\n",
              "       307. , 182. , 131.1, 192. , 183. , 280. , 180. , 221. , 193. ,\n",
              "       207. ,  89.1,  88.1, 259. , 266. ,  87.1,  34. ,  35. , 239. ,\n",
              "       249. ,  68.8, 100.2, 189.4,  90.8,  89.7,  83.3, 103.6, 208. ,\n",
              "       366.7,  88.4])"
            ]
          },
          "metadata": {},
          "execution_count": 24
        }
      ]
    },
    {
      "cell_type": "code",
      "source": [
        "df['lease_commence_date'].unique()"
      ],
      "metadata": {
        "colab": {
          "base_uri": "https://localhost:8080/"
        },
        "id": "7skXjDqz3Tx9",
        "outputId": "e5c6a0d6-8bad-4642-e9f8-da05439fe26a"
      },
      "execution_count": 25,
      "outputs": [
        {
          "output_type": "execute_result",
          "data": {
            "text/plain": [
              "array([1977, 1976, 1978, 1979, 1984, 1980, 1985, 1981, 1982, 1986, 1972,\n",
              "       1983, 1973, 1969, 1975, 1971, 1974, 1967, 1970, 1968, 1988, 1987,\n",
              "       1989, 1990, 1992, 1993, 1994, 1991, 1995, 1996, 1997, 1998, 1999,\n",
              "       2000, 2001, 1966, 2002, 2006, 2003, 2005, 2004, 2008, 2007, 2009,\n",
              "       2010, 2012, 2011, 2013, 2014, 2015, 2016, 2017, 2018, 2019, 2020,\n",
              "       2021])"
            ]
          },
          "metadata": {},
          "execution_count": 25
        }
      ]
    },
    {
      "cell_type": "code",
      "source": [
        "df['storey_range'].unique()"
      ],
      "metadata": {
        "colab": {
          "base_uri": "https://localhost:8080/"
        },
        "id": "KifMeke13ZBI",
        "outputId": "55d0116c-4769-4183-97b9-4cd0220e985d"
      },
      "execution_count": 26,
      "outputs": [
        {
          "output_type": "execute_result",
          "data": {
            "text/plain": [
              "array(['10 TO 12', '04 TO 06', '07 TO 09', '01 TO 03', '13 TO 15',\n",
              "       '19 TO 21', '16 TO 18', '25 TO 27', '22 TO 24', '28 TO 30',\n",
              "       '31 TO 33', '40 TO 42', '37 TO 39', '34 TO 36', '06 TO 10',\n",
              "       '01 TO 05', '11 TO 15', '16 TO 20', '21 TO 25', '26 TO 30',\n",
              "       '36 TO 40', '31 TO 35', '46 TO 48', '43 TO 45', '49 TO 51'],\n",
              "      dtype=object)"
            ]
          },
          "metadata": {},
          "execution_count": 26
        }
      ]
    },
    {
      "cell_type": "code",
      "source": [
        "df.columns"
      ],
      "metadata": {
        "colab": {
          "base_uri": "https://localhost:8080/"
        },
        "id": "m4isx3NY3bKw",
        "outputId": "59223593-503f-42b2-ef20-650598be9d33"
      },
      "execution_count": 27,
      "outputs": [
        {
          "output_type": "execute_result",
          "data": {
            "text/plain": [
              "Index(['month', 'town', 'flat_type', 'block', 'street_name', 'storey_range',\n",
              "       'floor_area_sqm', 'flat_model', 'lease_commence_date', 'resale_price',\n",
              "       'reg_year', 'reg_month'],\n",
              "      dtype='object')"
            ]
          },
          "metadata": {},
          "execution_count": 27
        }
      ]
    },
    {
      "cell_type": "code",
      "source": [
        "df.drop(columns=['month'],inplace=True)"
      ],
      "metadata": {
        "id": "VEKYaMei3gb_"
      },
      "execution_count": 28,
      "outputs": []
    },
    {
      "cell_type": "code",
      "source": [
        "a=['resale_price','floor_area_sqm']\n",
        "for i in a:\n",
        "    sns.distplot(df[i])\n",
        "    plt.title(i)\n",
        "    plt.show()"
      ],
      "metadata": {
        "colab": {
          "base_uri": "https://localhost:8080/",
          "height": 1000
        },
        "id": "gg1E93Rc3iZ_",
        "outputId": "7562f64d-ed42-40d2-fd08-b9f7e27638b6"
      },
      "execution_count": 29,
      "outputs": [
        {
          "output_type": "stream",
          "name": "stderr",
          "text": [
            "<ipython-input-29-7a0ded2aede5>:3: UserWarning: \n",
            "\n",
            "`distplot` is a deprecated function and will be removed in seaborn v0.14.0.\n",
            "\n",
            "Please adapt your code to use either `displot` (a figure-level function with\n",
            "similar flexibility) or `histplot` (an axes-level function for histograms).\n",
            "\n",
            "For a guide to updating your code to use the new functions, please see\n",
            "https://gist.github.com/mwaskom/de44147ed2974457ad6372750bbe5751\n",
            "\n",
            "  sns.distplot(df[i])\n"
          ]
        },
        {
          "output_type": "display_data",
          "data": {
            "text/plain": [
              "<Figure size 640x480 with 1 Axes>"
            ],
            "image/png": "[encoded data removed]"
          },
          "metadata": {}
        },
        {
          "output_type": "stream",
          "name": "stderr",
          "text": [
            "<ipython-input-29-7a0ded2aede5>:3: UserWarning: \n",
            "\n",
            "`distplot` is a deprecated function and will be removed in seaborn v0.14.0.\n",
            "\n",
            "Please adapt your code to use either `displot` (a figure-level function with\n",
            "similar flexibility) or `histplot` (an axes-level function for histograms).\n",
            "\n",
            "For a guide to updating your code to use the new functions, please see\n",
            "https://gist.github.com/mwaskom/de44147ed2974457ad6372750bbe5751\n",
            "\n",
            "  sns.distplot(df[i])\n"
          ]
        },
        {
          "output_type": "display_data",
          "data": {
            "text/plain": [
              "<Figure size 640x480 with 1 Axes>"
            ],
            "image/png": "[encoded data removed]"
          },
          "metadata": {}
        }
      ]
    },
    {
      "cell_type": "code",
      "source": [
        "plt.figure(figsize = (9,5))\n",
        "plt.title('floor area of flat type')\n",
        "sns.barplot(x = 'flat_type', y ='floor_area_sqm', data = df,)"
      ],
      "metadata": {
        "colab": {
          "base_uri": "https://localhost:8080/",
          "height": 450
        },
        "id": "8PRVPBv13sQc",
        "outputId": "06098df0-8b43-46e2-b6c1-dd05d6c71f35"
      },
      "execution_count": 30,
      "outputs": [
        {
          "output_type": "execute_result",
          "data": {
            "text/plain": [
              "<Axes: title={'center': 'floor area of flat type'}, xlabel='flat_type', ylabel='floor_area_sqm'>"
            ]
          },
          "metadata": {},
          "execution_count": 30
        },
        {
          "output_type": "display_data",
          "data": {
            "text/plain": [
              "<Figure size 900x500 with 1 Axes>"
            ],
            "image/png": "[encoded data removed]"
          },
          "metadata": {}
        }
      ]
    },
    {
      "cell_type": "markdown",
      "source": [
        "# Encode the data with label encoder"
      ],
      "metadata": {
        "id": "h3J4qlrS4f-X"
      }
    },
    {
      "cell_type": "code",
      "source": [
        "from sklearn.preprocessing import LabelEncoder\n",
        "\n",
        "# Initialize the LabelEncoder\n",
        "Label_encode = LabelEncoder()\n",
        "\n",
        "# Apply label encoding to 'street_name' and convert to int32\n",
        "df.loc[:, 'street_name'] = Label_encode.fit_transform(df['street_name']).astype('int32')\n"
      ],
      "metadata": {
        "id": "Hqf2CgPn4c2G"
      },
      "execution_count": 31,
      "outputs": []
    },
    {
      "cell_type": "code",
      "source": [
        "df.loc[:, 'flat_type'] = Label_encode.fit_transform(df['flat_type'])"
      ],
      "metadata": {
        "id": "FNIWbEUr5Rqk"
      },
      "execution_count": 32,
      "outputs": []
    },
    {
      "cell_type": "code",
      "source": [
        "df.loc[:, 'flat_model'] = Label_encode.fit_transform(df['flat_model'])"
      ],
      "metadata": {
        "id": "NQ1T_hQl5q93"
      },
      "execution_count": 33,
      "outputs": []
    },
    {
      "cell_type": "code",
      "source": [
        "df.loc[:, 'town'] = Label_encode.fit_transform(df['town'])"
      ],
      "metadata": {
        "id": "sTe4uyG355Dz"
      },
      "execution_count": 34,
      "outputs": []
    },
    {
      "cell_type": "code",
      "source": [
        "df.loc[:, 'storey_range'] = Label_encode.fit_transform(df['storey_range'])"
      ],
      "metadata": {
        "id": "NgQ8B2L659Pf"
      },
      "execution_count": 35,
      "outputs": []
    },
    {
      "cell_type": "code",
      "source": [
        "df"
      ],
      "metadata": {
        "colab": {
          "base_uri": "https://localhost:8080/",
          "height": 443
        },
        "id": "mKfrs_AN6FEI",
        "outputId": "3df8ce8f-97a2-4a5f-862d-1031174c2e5b"
      },
      "execution_count": 36,
      "outputs": [
        {
          "output_type": "execute_result",
          "data": {
            "text/plain": [
              "       town flat_type block street_name storey_range  floor_area_sqm  \\\n",
              "0         0         0   309          14            5            31.0   \n",
              "1         0         0   309          14            2            31.0   \n",
              "2         0         0   309          14            5            31.0   \n",
              "3         0         0   309          14            4            31.0   \n",
              "4         0         2   216          14            2            73.0   \n",
              "...     ...       ...   ...         ...          ...             ...   \n",
              "199322   26         5   344         558            0           145.0   \n",
              "199323   26         5   352         568            2           146.0   \n",
              "199324   26         5   360         568            4           142.0   \n",
              "199325   26         5   614         577            2           146.0   \n",
              "199326   26         5   836         580            0           146.0   \n",
              "\n",
              "       flat_model  lease_commence_date  resale_price  reg_year  reg_month  \n",
              "0               7                 1977        9000.0      1990          1  \n",
              "1               7                 1977        6000.0      1990          1  \n",
              "2               7                 1977        8000.0      1990          1  \n",
              "3               7                 1977        6000.0      1990          1  \n",
              "4              20                 1976       47200.0      1990          1  \n",
              "...           ...                  ...           ...       ...        ...  \n",
              "199322         15                 1988      890000.0      2025          1  \n",
              "199323         15                 1988     1008000.0      2025          1  \n",
              "199324          5                 1988      880000.0      2025          1  \n",
              "199325         15                 1987      800000.0      2025          1  \n",
              "199326         15                 1988      960000.0      2025          1  \n",
              "\n",
              "[945530 rows x 11 columns]"
            ],
            "text/html": [
              "\n",
              "  <div id=\"df-a78a0f3f-6494-4b22-a577-586a9152f146\" class=\"colab-df-container\">\n",
              "    <div>\n",
              "<style scoped>\n",
              "    .dataframe tbody tr th:only-of-type {\n",
              "        vertical-align: middle;\n",
              "    }\n",
              "\n",
              "    .dataframe tbody tr th {\n",
              "        vertical-align: top;\n",
              "    }\n",
              "\n",
              "    .dataframe thead th {\n",
              "        text-align: right;\n",
              "    }\n",
              "</style>\n",
              "<table border=\"1\" class=\"dataframe\">\n",
              "  <thead>\n",
              "    <tr style=\"text-align: right;\">\n",
              "      <th></th>\n",
              "      <th>town</th>\n",
              "      <th>flat_type</th>\n",
              "      <th>block</th>\n",
              "      <th>street_name</th>\n",
              "      <th>storey_range</th>\n",
              "      <th>floor_area_sqm</th>\n",
              "      <th>flat_model</th>\n",
              "      <th>lease_commence_date</th>\n",
              "      <th>resale_price</th>\n",
              "      <th>reg_year</th>\n",
              "      <th>reg_month</th>\n",
              "    </tr>\n",
              "  </thead>\n",
              "  <tbody>\n",
              "    <tr>\n",
              "      <th>0</th>\n",
              "      <td>0</td>\n",
              "      <td>0</td>\n",
              "      <td>309</td>\n",
              "      <td>14</td>\n",
              "      <td>5</td>\n",
              "      <td>31.0</td>\n",
              "      <td>7</td>\n",
              "      <td>1977</td>\n",
              "      <td>9000.0</td>\n",
              "      <td>1990</td>\n",
              "      <td>1</td>\n",
              "    </tr>\n",
              "    <tr>\n",
              "      <th>1</th>\n",
              "      <td>0</td>\n",
              "      <td>0</td>\n",
              "      <td>309</td>\n",
              "      <td>14</td>\n",
              "      <td>2</td>\n",
              "      <td>31.0</td>\n",
              "      <td>7</td>\n",
              "      <td>1977</td>\n",
              "      <td>6000.0</td>\n",
              "      <td>1990</td>\n",
              "      <td>1</td>\n",
              "    </tr>\n",
              "    <tr>\n",
              "      <th>2</th>\n",
              "      <td>0</td>\n",
              "      <td>0</td>\n",
              "      <td>309</td>\n",
              "      <td>14</td>\n",
              "      <td>5</td>\n",
              "      <td>31.0</td>\n",
              "      <td>7</td>\n",
              "      <td>1977</td>\n",
              "      <td>8000.0</td>\n",
              "      <td>1990</td>\n",
              "      <td>1</td>\n",
              "    </tr>\n",
              "    <tr>\n",
              "      <th>3</th>\n",
              "      <td>0</td>\n",
              "      <td>0</td>\n",
              "      <td>309</td>\n",
              "      <td>14</td>\n",
              "      <td>4</td>\n",
              "      <td>31.0</td>\n",
              "      <td>7</td>\n",
              "      <td>1977</td>\n",
              "      <td>6000.0</td>\n",
              "      <td>1990</td>\n",
              "      <td>1</td>\n",
              "    </tr>\n",
              "    <tr>\n",
              "      <th>4</th>\n",
              "      <td>0</td>\n",
              "      <td>2</td>\n",
              "      <td>216</td>\n",
              "      <td>14</td>\n",
              "      <td>2</td>\n",
              "      <td>73.0</td>\n",
              "      <td>20</td>\n",
              "      <td>1976</td>\n",
              "      <td>47200.0</td>\n",
              "      <td>1990</td>\n",
              "      <td>1</td>\n",
              "    </tr>\n",
              "    <tr>\n",
              "      <th>...</th>\n",
              "      <td>...</td>\n",
              "      <td>...</td>\n",
              "      <td>...</td>\n",
              "      <td>...</td>\n",
              "      <td>...</td>\n",
              "      <td>...</td>\n",
              "      <td>...</td>\n",
              "      <td>...</td>\n",
              "      <td>...</td>\n",
              "      <td>...</td>\n",
              "      <td>...</td>\n",
              "    </tr>\n",
              "    <tr>\n",
              "      <th>199322</th>\n",
              "      <td>26</td>\n",
              "      <td>5</td>\n",
              "      <td>344</td>\n",
              "      <td>558</td>\n",
              "      <td>0</td>\n",
              "      <td>145.0</td>\n",
              "      <td>15</td>\n",
              "      <td>1988</td>\n",
              "      <td>890000.0</td>\n",
              "      <td>2025</td>\n",
              "      <td>1</td>\n",
              "    </tr>\n",
              "    <tr>\n",
              "      <th>199323</th>\n",
              "      <td>26</td>\n",
              "      <td>5</td>\n",
              "      <td>352</td>\n",
              "      <td>568</td>\n",
              "      <td>2</td>\n",
              "      <td>146.0</td>\n",
              "      <td>15</td>\n",
              "      <td>1988</td>\n",
              "      <td>1008000.0</td>\n",
              "      <td>2025</td>\n",
              "      <td>1</td>\n",
              "    </tr>\n",
              "    <tr>\n",
              "      <th>199324</th>\n",
              "      <td>26</td>\n",
              "      <td>5</td>\n",
              "      <td>360</td>\n",
              "      <td>568</td>\n",
              "      <td>4</td>\n",
              "      <td>142.0</td>\n",
              "      <td>5</td>\n",
              "      <td>1988</td>\n",
              "      <td>880000.0</td>\n",
              "      <td>2025</td>\n",
              "      <td>1</td>\n",
              "    </tr>\n",
              "    <tr>\n",
              "      <th>199325</th>\n",
              "      <td>26</td>\n",
              "      <td>5</td>\n",
              "      <td>614</td>\n",
              "      <td>577</td>\n",
              "      <td>2</td>\n",
              "      <td>146.0</td>\n",
              "      <td>15</td>\n",
              "      <td>1987</td>\n",
              "      <td>800000.0</td>\n",
              "      <td>2025</td>\n",
              "      <td>1</td>\n",
              "    </tr>\n",
              "    <tr>\n",
              "      <th>199326</th>\n",
              "      <td>26</td>\n",
              "      <td>5</td>\n",
              "      <td>836</td>\n",
              "      <td>580</td>\n",
              "      <td>0</td>\n",
              "      <td>146.0</td>\n",
              "      <td>15</td>\n",
              "      <td>1988</td>\n",
              "      <td>960000.0</td>\n",
              "      <td>2025</td>\n",
              "      <td>1</td>\n",
              "    </tr>\n",
              "  </tbody>\n",
              "</table>\n",
              "<p>945530 rows × 11 columns</p>\n",
              "</div>\n",
              "    <div class=\"colab-df-buttons\">\n",
              "\n",
              "  <div class=\"colab-df-container\">\n",
              "    <button class=\"colab-df-convert\" onclick=\"convertToInteractive('df-a78a0f3f-6494-4b22-a577-586a9152f146')\"\n",
              "            title=\"Convert this dataframe to an interactive table.\"\n",
              "            style=\"display:none;\">\n",
              "\n",
              "  <svg xmlns=\"http://www.w3.org/2000/svg\" height=\"24px\" viewBox=\"0 -960 960 960\">\n",
              "    <path d=\"M120-120v-720h720v720H120Zm60-500h600v-160H180v160Zm220 220h160v-160H400v160Zm0 220h160v-160H400v160ZM180-400h160v-160H180v160Zm440 0h160v-160H620v160ZM180-180h160v-160H180v160Zm440 0h160v-160H620v160Z\"/>\n",
              "  </svg>\n",
              "    </button>\n",
              "\n",
              "  <style>\n",
              "    .colab-df-container {\n",
              "      display:flex;\n",
              "      gap: 12px;\n",
              "    }\n",
              "\n",
              "    .colab-df-convert {\n",
              "      background-color: #E8F0FE;\n",
              "      border: none;\n",
              "      border-radius: 50%;\n",
              "      cursor: pointer;\n",
              "      display: none;\n",
              "      fill: #1967D2;\n",
              "      height: 32px;\n",
              "      padding: 0 0 0 0;\n",
              "      width: 32px;\n",
              "    }\n",
              "\n",
              "    .colab-df-convert:hover {\n",
              "      background-color: #E2EBFA;\n",
              "      box-shadow: 0px 1px 2px rgba(60, 64, 67, 0.3), 0px 1px 3px 1px rgba(60, 64, 67, 0.15);\n",
              "      fill: #174EA6;\n",
              "    }\n",
              "\n",
              "    .colab-df-buttons div {\n",
              "      margin-bottom: 4px;\n",
              "    }\n",
              "\n",
              "    [theme=dark] .colab-df-convert {\n",
              "      background-color: #3B4455;\n",
              "      fill: #D2E3FC;\n",
              "    }\n",
              "\n",
              "    [theme=dark] .colab-df-convert:hover {\n",
              "      background-color: #434B5C;\n",
              "      box-shadow: 0px 1px 3px 1px rgba(0, 0, 0, 0.15);\n",
              "      filter: drop-shadow(0px 1px 2px rgba(0, 0, 0, 0.3));\n",
              "      fill: #FFFFFF;\n",
              "    }\n",
              "  </style>\n",
              "\n",
              "    <script>\n",
              "      const buttonEl =\n",
              "        document.querySelector('#df-a78a0f3f-6494-4b22-a577-586a9152f146 button.colab-df-convert');\n",
              "      buttonEl.style.display =\n",
              "        google.colab.kernel.accessAllowed ? 'block' : 'none';\n",
              "\n",
              "      async function convertToInteractive(key) {\n",
              "        const element = document.querySelector('#df-a78a0f3f-6494-4b22-a577-586a9152f146');\n",
              "        const dataTable =\n",
              "          await google.colab.kernel.invokeFunction('convertToInteractive',\n",
              "                                                    [key], {});\n",
              "        if (!dataTable) return;\n",
              "\n",
              "        const docLinkHtml = 'Like what you see? Visit the ' +\n",
              "          '<a target=\"_blank\" href=https://colab.research.google.com/notebooks/data_table.ipynb>data table notebook</a>'\n",
              "          + ' to learn more about interactive tables.';\n",
              "        element.innerHTML = '';\n",
              "        dataTable['output_type'] = 'display_data';\n",
              "        await google.colab.output.renderOutput(dataTable, element);\n",
              "        const docLink = document.createElement('div');\n",
              "        docLink.innerHTML = docLinkHtml;\n",
              "        element.appendChild(docLink);\n",
              "      }\n",
              "    </script>\n",
              "  </div>\n",
              "\n",
              "\n",
              "<div id=\"df-75ed4fe5-5612-4b0a-ac7c-a0e2de2f1769\">\n",
              "  <button class=\"colab-df-quickchart\" onclick=\"quickchart('df-75ed4fe5-5612-4b0a-ac7c-a0e2de2f1769')\"\n",
              "            title=\"Suggest charts\"\n",
              "            style=\"display:none;\">\n",
              "\n",
              "<svg xmlns=\"http://www.w3.org/2000/svg\" height=\"24px\"viewBox=\"0 0 24 24\"\n",
              "     width=\"24px\">\n",
              "    <g>\n",
              "        <path d=\"M19 3H5c-1.1 0-2 .9-2 2v14c0 1.1.9 2 2 2h14c1.1 0 2-.9 2-2V5c0-1.1-.9-2-2-2zM9 17H7v-7h2v7zm4 0h-2V7h2v10zm4 0h-2v-4h2v4z\"/>\n",
              "    </g>\n",
              "</svg>\n",
              "  </button>\n",
              "\n",
              "<style>\n",
              "  .colab-df-quickchart {\n",
              "      --bg-color: #E8F0FE;\n",
              "      --fill-color: #1967D2;\n",
              "      --hover-bg-color: #E2EBFA;\n",
              "      --hover-fill-color: #174EA6;\n",
              "      --disabled-fill-color: #AAA;\n",
              "      --disabled-bg-color: #DDD;\n",
              "  }\n",
              "\n",
              "  [theme=dark] .colab-df-quickchart {\n",
              "      --bg-color: #3B4455;\n",
              "      --fill-color: #D2E3FC;\n",
              "      --hover-bg-color: #434B5C;\n",
              "      --hover-fill-color: #FFFFFF;\n",
              "      --disabled-bg-color: #3B4455;\n",
              "      --disabled-fill-color: #666;\n",
              "  }\n",
              "\n",
              "  .colab-df-quickchart {\n",
              "    background-color: var(--bg-color);\n",
              "    border: none;\n",
              "    border-radius: 50%;\n",
              "    cursor: pointer;\n",
              "    display: none;\n",
              "    fill: var(--fill-color);\n",
              "    height: 32px;\n",
              "    padding: 0;\n",
              "    width: 32px;\n",
              "  }\n",
              "\n",
              "  .colab-df-quickchart:hover {\n",
              "    background-color: var(--hover-bg-color);\n",
              "    box-shadow: 0 1px 2px rgba(60, 64, 67, 0.3), 0 1px 3px 1px rgba(60, 64, 67, 0.15);\n",
              "    fill: var(--button-hover-fill-color);\n",
              "  }\n",
              "\n",
              "  .colab-df-quickchart-complete:disabled,\n",
              "  .colab-df-quickchart-complete:disabled:hover {\n",
              "    background-color: var(--disabled-bg-color);\n",
              "    fill: var(--disabled-fill-color);\n",
              "    box-shadow: none;\n",
              "  }\n",
              "\n",
              "  .colab-df-spinner {\n",
              "    border: 2px solid var(--fill-color);\n",
              "    border-color: transparent;\n",
              "    border-bottom-color: var(--fill-color);\n",
              "    animation:\n",
              "      spin 1s steps(1) infinite;\n",
              "  }\n",
              "\n",
              "  @keyframes spin {\n",
              "    0% {\n",
              "      border-color: transparent;\n",
              "      border-bottom-color: var(--fill-color);\n",
              "      border-left-color: var(--fill-color);\n",
              "    }\n",
              "    20% {\n",
              "      border-color: transparent;\n",
              "      border-left-color: var(--fill-color);\n",
              "      border-top-color: var(--fill-color);\n",
              "    }\n",
              "    30% {\n",
              "      border-color: transparent;\n",
              "      border-left-color: var(--fill-color);\n",
              "      border-top-color: var(--fill-color);\n",
              "      border-right-color: var(--fill-color);\n",
              "    }\n",
              "    40% {\n",
              "      border-color: transparent;\n",
              "      border-right-color: var(--fill-color);\n",
              "      border-top-color: var(--fill-color);\n",
              "    }\n",
              "    60% {\n",
              "      border-color: transparent;\n",
              "      border-right-color: var(--fill-color);\n",
              "    }\n",
              "    80% {\n",
              "      border-color: transparent;\n",
              "      border-right-color: var(--fill-color);\n",
              "      border-bottom-color: var(--fill-color);\n",
              "    }\n",
              "    90% {\n",
              "      border-color: transparent;\n",
              "      border-bottom-color: var(--fill-color);\n",
              "    }\n",
              "  }\n",
              "</style>\n",
              "\n",
              "  <script>\n",
              "    async function quickchart(key) {\n",
              "      const quickchartButtonEl =\n",
              "        document.querySelector('#' + key + ' button');\n",
              "      quickchartButtonEl.disabled = true;  // To prevent multiple clicks.\n",
              "      quickchartButtonEl.classList.add('colab-df-spinner');\n",
              "      try {\n",
              "        const charts = await google.colab.kernel.invokeFunction(\n",
              "            'suggestCharts', [key], {});\n",
              "      } catch (error) {\n",
              "        console.error('Error during call to suggestCharts:', error);\n",
              "      }\n",
              "      quickchartButtonEl.classList.remove('colab-df-spinner');\n",
              "      quickchartButtonEl.classList.add('colab-df-quickchart-complete');\n",
              "    }\n",
              "    (() => {\n",
              "      let quickchartButtonEl =\n",
              "        document.querySelector('#df-75ed4fe5-5612-4b0a-ac7c-a0e2de2f1769 button');\n",
              "      quickchartButtonEl.style.display =\n",
              "        google.colab.kernel.accessAllowed ? 'block' : 'none';\n",
              "    })();\n",
              "  </script>\n",
              "</div>\n",
              "\n",
              "  <div id=\"id_b16c9d58-d456-4d5e-a43f-1ed9491da24f\">\n",
              "    <style>\n",
              "      .colab-df-generate {\n",
              "        background-color: #E8F0FE;\n",
              "        border: none;\n",
              "        border-radius: 50%;\n",
              "        cursor: pointer;\n",
              "        display: none;\n",
              "        fill: #1967D2;\n",
              "        height: 32px;\n",
              "        padding: 0 0 0 0;\n",
              "        width: 32px;\n",
              "      }\n",
              "\n",
              "      .colab-df-generate:hover {\n",
              "        background-color: #E2EBFA;\n",
              "        box-shadow: 0px 1px 2px rgba(60, 64, 67, 0.3), 0px 1px 3px 1px rgba(60, 64, 67, 0.15);\n",
              "        fill: #174EA6;\n",
              "      }\n",
              "\n",
              "      [theme=dark] .colab-df-generate {\n",
              "        background-color: #3B4455;\n",
              "        fill: #D2E3FC;\n",
              "      }\n",
              "\n",
              "      [theme=dark] .colab-df-generate:hover {\n",
              "        background-color: #434B5C;\n",
              "        box-shadow: 0px 1px 3px 1px rgba(0, 0, 0, 0.15);\n",
              "        filter: drop-shadow(0px 1px 2px rgba(0, 0, 0, 0.3));\n",
              "        fill: #FFFFFF;\n",
              "      }\n",
              "    </style>\n",
              "    <button class=\"colab-df-generate\" onclick=\"generateWithVariable('df')\"\n",
              "            title=\"Generate code using this dataframe.\"\n",
              "            style=\"display:none;\">\n",
              "\n",
              "  <svg xmlns=\"http://www.w3.org/2000/svg\" height=\"24px\"viewBox=\"0 0 24 24\"\n",
              "       width=\"24px\">\n",
              "    <path d=\"M7,19H8.4L18.45,9,17,7.55,7,17.6ZM5,21V16.75L18.45,3.32a2,2,0,0,1,2.83,0l1.4,1.43a1.91,1.91,0,0,1,.58,1.4,1.91,1.91,0,0,1-.58,1.4L9.25,21ZM18.45,9,17,7.55Zm-12,3A5.31,5.31,0,0,0,4.9,8.1,5.31,5.31,0,0,0,1,6.5,5.31,5.31,0,0,0,4.9,4.9,5.31,5.31,0,0,0,6.5,1,5.31,5.31,0,0,0,8.1,4.9,5.31,5.31,0,0,0,12,6.5,5.46,5.46,0,0,0,6.5,12Z\"/>\n",
              "  </svg>\n",
              "    </button>\n",
              "    <script>\n",
              "      (() => {\n",
              "      const buttonEl =\n",
              "        document.querySelector('#id_b16c9d58-d456-4d5e-a43f-1ed9491da24f button.colab-df-generate');\n",
              "      buttonEl.style.display =\n",
              "        google.colab.kernel.accessAllowed ? 'block' : 'none';\n",
              "\n",
              "      buttonEl.onclick = () => {\n",
              "        google.colab.notebook.generateWithVariable('df');\n",
              "      }\n",
              "      })();\n",
              "    </script>\n",
              "  </div>\n",
              "\n",
              "    </div>\n",
              "  </div>\n"
            ],
            "application/vnd.google.colaboratory.intrinsic+json": {
              "type": "dataframe",
              "variable_name": "df"
            }
          },
          "metadata": {},
          "execution_count": 36
        }
      ]
    },
    {
      "cell_type": "code",
      "source": [
        "x=df[['town','flat_type','block','street_name','storey_range','floor_area_sqm','flat_model','lease_commence_date','resale_price']].corr()\n",
        "plt.figure(figsize = (11,5))\n",
        "sns.heatmap(x, annot=True, cmap=\"coolwarm\")"
      ],
      "metadata": {
        "colab": {
          "base_uri": "https://localhost:8080/",
          "height": 431
        },
        "id": "Dmef-wSR6HZf",
        "outputId": "9a5f8efe-c7db-4b67-aad2-59357e393bfd"
      },
      "execution_count": 37,
      "outputs": [
        {
          "output_type": "execute_result",
          "data": {
            "text/plain": [
              "<Axes: >"
            ]
          },
          "metadata": {},
          "execution_count": 37
        },
        {
          "output_type": "display_data",
          "data": {
            "text/plain": [
              "<Figure size 1100x500 with 2 Axes>"
            ],
            "image/png": "[encoded data removed]"
          },
          "metadata": {}
        }
      ]
    },
    {
      "cell_type": "markdown",
      "source": [
        "# split the data as Feature and target"
      ],
      "metadata": {
        "id": "vcpa1msZ7A76"
      }
    },
    {
      "cell_type": "code",
      "source": [
        "x=df[['town','flat_type','block','street_name','storey_range','floor_area_sqm','flat_model','lease_commence_date','reg_year','reg_month']]\n",
        "y=df[['resale_price']]"
      ],
      "metadata": {
        "id": "_OX4_yK36hBu"
      },
      "execution_count": 38,
      "outputs": []
    },
    {
      "cell_type": "code",
      "source": [
        "from sklearn.model_selection import train_test_split\n",
        "\n",
        "x_train,x_test,y_train,y_test=train_test_split(x,y,test_size=0.2,random_state=40)"
      ],
      "metadata": {
        "id": "-nsjmODo7EwO"
      },
      "execution_count": 39,
      "outputs": []
    },
    {
      "cell_type": "code",
      "source": [
        "from sklearn.linear_model import LinearRegression\n",
        "from sklearn import metrics\n",
        "from sklearn.metrics import r2_score,mean_squared_error,mean_absolute_error\n",
        "\n",
        "linear_reg = LinearRegression()\n",
        "linear_reg.fit(x_train , y_train)\n",
        "y_pred = linear_reg.predict(x_test)\n",
        "print(f'MAE = {metrics.mean_absolute_error(y_test,y_pred)}')\n",
        "print(f'MSE = {metrics.mean_squared_error(y_test,y_pred)}')\n",
        "print(f'R2 Score = {linear_reg.score(x_test,y_test)}')"
      ],
      "metadata": {
        "colab": {
          "base_uri": "https://localhost:8080/"
        },
        "id": "CvgFOBOs7IKo",
        "outputId": "7aa4a479-3c1a-4015-c1f4-36974b92c0c5"
      },
      "execution_count": 40,
      "outputs": [
        {
          "output_type": "stream",
          "name": "stdout",
          "text": [
            "MAE = 61945.10798609484\n",
            "MSE = 6953009654.00455\n",
            "R2 Score = 0.7761842466026198\n"
          ]
        }
      ]
    },
    {
      "cell_type": "code",
      "source": [
        "from sklearn.tree import DecisionTreeRegressor\n",
        "\n",
        "decision_reg = DecisionTreeRegressor()\n",
        "decision_reg.fit(x_train , y_train)\n",
        "y_pred = decision_reg.predict(x_test)\n",
        "print(f'MAE = {metrics.mean_absolute_error(y_test,y_pred)}')\n",
        "print(f'MSE = {metrics.mean_squared_error(y_test,y_pred)}')\n",
        "print(f'R2 Score = {decision_reg.score(x_test,y_test)}')"
      ],
      "metadata": {
        "colab": {
          "base_uri": "https://localhost:8080/"
        },
        "id": "umOp-hXc8Zwq",
        "outputId": "289fb4a7-ee78-442a-fdf3-c00a8df3d725"
      },
      "execution_count": 41,
      "outputs": [
        {
          "output_type": "stream",
          "name": "stdout",
          "text": [
            "MAE = 19712.684748282543\n",
            "MSE = 906137953.6213207\n",
            "R2 Score = 0.9708316313562272\n"
          ]
        }
      ]
    },
    {
      "cell_type": "code",
      "source": [
        "from sklearn.ensemble import RandomForestRegressor\n",
        "from sklearn import metrics\n",
        "from sklearn.metrics import r2_score,mean_squared_error,mean_absolute_error\n",
        "\n",
        "\n",
        "# Initialize the RandomForestRegressor\n",
        "random_forest_reg = RandomForestRegressor()\n",
        "\n",
        "# Convert y_train and y_test from DataFrame to NumPy array, then ravel them\n",
        "random_forest_reg.fit(x_train, y_train.values.ravel())  # Convert y_train to 1D array\n",
        "\n",
        "# Make predictions on the test data\n",
        "y_pred = random_forest_reg.predict(x_test)\n",
        "\n",
        "# Print the evaluation metrics\n",
        "print(f'MAE = {metrics.mean_absolute_error(y_test, y_pred)}')\n",
        "print(f'MSE = {metrics.mean_squared_error(y_test, y_pred)}')\n",
        "print(f'R2 Score = {random_forest_reg.score(x_test, y_test)}')\n"
      ],
      "metadata": {
        "colab": {
          "base_uri": "https://localhost:8080/"
        },
        "id": "ze01mruCTqAg",
        "outputId": "12f47d78-0cec-49b5-96ee-0e0a31b7d029"
      },
      "execution_count": 42,
      "outputs": [
        {
          "output_type": "stream",
          "name": "stdout",
          "text": [
            "MAE = 14675.747276211501\n",
            "MSE = 483413842.99041593\n",
            "R2 Score = 0.9844390215380604\n"
          ]
        }
      ]
    },
    {
      "cell_type": "code",
      "source": [
        "with open ('sell.pkl', 'wb') as f:\n",
        "    pickle.dump(decision_reg , f)"
      ],
      "metadata": {
        "id": "yawb8b1e-sbA"
      },
      "execution_count": 43,
      "outputs": []
    },
    {
      "cell_type": "code",
      "source": [
        "with open ('random_sell.pkl', 'wb') as f:\n",
        "    pickle.dump(random_forest_reg , f)"
      ],
      "metadata": {
        "id": "sK2PxjOsccv0"
      },
      "execution_count": 44,
      "outputs": []
    },
    {
      "cell_type": "code",
      "source": [
        "cat_column=['town', 'flat_type', 'block', 'street_name', 'flat_model']\n",
        "unique_dist={}\n",
        "for i in cat_column:\n",
        "    unique_dist[f'{i}_initial']=df[i].unique().tolist()\n",
        "\n",
        "    le=LabelEncoder()\n",
        "    df[i]=le.fit_transform(df[i])\n",
        "    unique_dist[f'{i}_Final']=df[i].unique().tolist()\n",
        "unique_dist"
      ],
      "metadata": {
        "id": "Zy8Gsu9m-_P2"
      },
      "execution_count": null,
      "outputs": []
    },
    {
      "cell_type": "code",
      "source": [
        "with open('Cat_Columns_Encoded_value.json', 'w') as file:\n",
        "    json.dump(unique_dist, file , indent = 4)"
      ],
      "metadata": {
        "id": "B4Rkq0BztHXz"
      },
      "execution_count": 46,
      "outputs": []
    }
  ]
}